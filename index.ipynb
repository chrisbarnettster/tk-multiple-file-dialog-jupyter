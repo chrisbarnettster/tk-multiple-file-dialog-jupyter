{
 "cells": [
  {
   "cell_type": "markdown",
   "metadata": {},
   "source": [
    "# Trivial browse and upload multiple files in a Notebook\n",
    "\n",
    "## Let's use Tkinter\n",
    "\n",
    "## Alternatives using ipywidgets\n",
    "https://anaconda.org/nbcio/uploader-widget/notebook\n",
    "https://github.com/ipython/ipywidgets\n",
    "\n"
   ]
  },
  {
   "cell_type": "code",
   "execution_count": 38,
   "metadata": {
    "collapsed": false
   },
   "outputs": [],
   "source": [
    "import sys\n",
    "from Tkinter import *\n",
    "import tkFileDialog \n",
    "\n",
    "fname = \"\"\n",
    "\n",
    "def openFile():\n",
    "    global fname\n",
    "    fname = tkFileDialog.askopenfilenames()\n",
    "    root.destroy()\n",
    "\n",
    "if __name__ == '__main__':\n",
    "\n",
    "    root = Tk()\n",
    "    Button(root, text='Click to Browse and Select Files', command = openFile).pack(fill=X)\n",
    "    mainloop()\n"
   ]
  },
  {
   "cell_type": "code",
   "execution_count": 39,
   "metadata": {
    "collapsed": false
   },
   "outputs": [],
   "source": [
    "# loop through files and print contents\n",
    "for name in fname:\n",
    "    print name.encode('utf-8'), open(name.encode('utf-8'),'r').read()\n",
    "    "
   ]
  },
  {
   "cell_type": "code",
   "execution_count": null,
   "metadata": {
    "collapsed": true
   },
   "outputs": [],
   "source": []
  }
 ],
 "metadata": {
  "anaconda-cloud": {},
  "kernelspec": {
   "display_name": "Python [conda env:pynotes]",
   "language": "python",
   "name": "conda-env-pynotes-py"
  },
  "language_info": {
   "codemirror_mode": {
    "name": "ipython",
    "version": 2
   },
   "file_extension": ".py",
   "mimetype": "text/x-python",
   "name": "python",
   "nbconvert_exporter": "python",
   "pygments_lexer": "ipython2",
   "version": "2.7.12"
  }
 },
 "nbformat": 4,
 "nbformat_minor": 0
}
